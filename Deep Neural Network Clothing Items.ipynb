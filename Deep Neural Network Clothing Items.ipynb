{
 "cells": [
  {
   "cell_type": "markdown",
   "metadata": {},
   "source": [
    "<h1> Deep Neural Network: Identifying Clothing Items <h1>"
   ]
  },
  {
   "cell_type": "markdown",
   "metadata": {},
   "source": [
    "<img src=\"all black clothing items-2.png\" align='center'>"
   ]
  },
  {
   "cell_type": "markdown",
   "metadata": {},
   "source": [
    "<h2> Imports and Data Loading <h2>"
   ]
  },
  {
   "cell_type": "code",
   "execution_count": 25,
   "metadata": {},
   "outputs": [],
   "source": [
    "import keras\n",
    "import numpy as np\n",
    "from keras.datasets import fashion_mnist\n",
    "from keras.models import Sequential\n",
    "from keras.layers import Dense\n",
    "from keras.optimizers import SGD\n",
    "from matplotlib import pyplot as plt\n",
    "from keras.layers import Dropout\n",
    "from keras.layers import BatchNormalization"
   ]
  },
  {
   "cell_type": "code",
   "execution_count": 6,
   "metadata": {},
   "outputs": [
    {
     "name": "stdout",
     "output_type": "stream",
     "text": [
      "Downloading data from https://storage.googleapis.com/tensorflow/tf-keras-datasets/train-labels-idx1-ubyte.gz\n",
      "32768/29515 [=================================] - 0s 2us/step\n",
      "Downloading data from https://storage.googleapis.com/tensorflow/tf-keras-datasets/train-images-idx3-ubyte.gz\n",
      "26427392/26421880 [==============================] - 3s 0us/step\n",
      "Downloading data from https://storage.googleapis.com/tensorflow/tf-keras-datasets/t10k-labels-idx1-ubyte.gz\n",
      "8192/5148 [===============================================] - 0s 0us/step\n",
      "Downloading data from https://storage.googleapis.com/tensorflow/tf-keras-datasets/t10k-images-idx3-ubyte.gz\n",
      "4423680/4422102 [==============================] - 1s 0us/step\n"
     ]
    }
   ],
   "source": [
    "(image_train, label_train), (image_test, label_test) = fashion_mnist.load_data()"
   ]
  },
  {
   "cell_type": "markdown",
   "metadata": {},
   "source": [
    "<h2>Preprocessing<h2>"
   ]
  },
  {
   "cell_type": "code",
   "execution_count": 7,
   "metadata": {},
   "outputs": [],
   "source": [
    "#Flattening\n",
    "image_train = image_train.reshape(60000, 784).astype('float32')\n",
    "image_test = image_test.reshape(10000, 784).astype('float32')\n",
    "\n",
    "#Converting into floats between 0-1\n",
    "image_train /= 255\n",
    "image_test /= 255\n",
    "\n",
    "#One hot encoding labels\n",
    "num_classes = 10\n",
    "label_train = keras.utils.to_categorical(label_train, num_classes)\n",
    "label_test = keras.utils.to_categorical(label_test, num_classes)"
   ]
  },
  {
   "cell_type": "markdown",
   "metadata": {},
   "source": [
    "<h2> Neural Network<h2>"
   ]
  },
  {
   "cell_type": "code",
   "execution_count": 13,
   "metadata": {},
   "outputs": [],
   "source": [
    "neural_network = Sequential()\n",
    "\n",
    "neural_network.add(Dense(64, activation='relu', input_shape=(784,)))\n",
    "neural_network.add(BatchNormalization())\n",
    "\n",
    "neural_network.add(Dense(64, activation='relu'))\n",
    "neural_network.add(BatchNormalization())\n",
    "\n",
    "neural_network.add(Dense(64, activation='relu'))\n",
    "neural_network.add(BatchNormalization())\n",
    "neural_network.add(Dropout(0.3))\n",
    "\n",
    "neural_network.add(Dense(10, activation='softmax'))\n",
    "\n",
    "neural_network.compile(loss='categorical_crossentropy', optimizer='adam', metrics=['accuracy'])"
   ]
  },
  {
   "cell_type": "markdown",
   "metadata": {},
   "source": [
    "<h2>Training<h2>"
   ]
  },
  {
   "cell_type": "code",
   "execution_count": 14,
   "metadata": {},
   "outputs": [
    {
     "name": "stdout",
     "output_type": "stream",
     "text": [
      "Epoch 1/20\n",
      "469/469 - 1s - loss: 0.6015 - accuracy: 0.7947 - val_loss: 0.5126 - val_accuracy: 0.8140\n",
      "Epoch 2/20\n",
      "469/469 - 1s - loss: 0.4140 - accuracy: 0.8544 - val_loss: 0.4050 - val_accuracy: 0.8519\n",
      "Epoch 3/20\n",
      "469/469 - 1s - loss: 0.3712 - accuracy: 0.8687 - val_loss: 0.3996 - val_accuracy: 0.8587\n",
      "Epoch 4/20\n",
      "469/469 - 1s - loss: 0.3455 - accuracy: 0.8757 - val_loss: 0.3918 - val_accuracy: 0.8574\n",
      "Epoch 5/20\n",
      "469/469 - 1s - loss: 0.3294 - accuracy: 0.8813 - val_loss: 0.4234 - val_accuracy: 0.8557\n",
      "Epoch 6/20\n",
      "469/469 - 1s - loss: 0.3114 - accuracy: 0.8871 - val_loss: 0.4054 - val_accuracy: 0.8539\n",
      "Epoch 7/20\n",
      "469/469 - 1s - loss: 0.3048 - accuracy: 0.8893 - val_loss: 0.4060 - val_accuracy: 0.8607\n",
      "Epoch 8/20\n",
      "469/469 - 1s - loss: 0.2941 - accuracy: 0.8935 - val_loss: 0.3702 - val_accuracy: 0.8674\n",
      "Epoch 9/20\n",
      "469/469 - 1s - loss: 0.2824 - accuracy: 0.8973 - val_loss: 0.3960 - val_accuracy: 0.8615\n",
      "Epoch 10/20\n",
      "469/469 - 1s - loss: 0.2771 - accuracy: 0.8986 - val_loss: 0.3463 - val_accuracy: 0.8756\n",
      "Epoch 11/20\n",
      "469/469 - 1s - loss: 0.2677 - accuracy: 0.9033 - val_loss: 0.3550 - val_accuracy: 0.8750\n",
      "Epoch 12/20\n",
      "469/469 - 1s - loss: 0.2606 - accuracy: 0.9054 - val_loss: 0.4133 - val_accuracy: 0.8493\n",
      "Epoch 13/20\n",
      "469/469 - 1s - loss: 0.2539 - accuracy: 0.9070 - val_loss: 0.3659 - val_accuracy: 0.8727\n",
      "Epoch 14/20\n",
      "469/469 - 1s - loss: 0.2480 - accuracy: 0.9084 - val_loss: 0.3421 - val_accuracy: 0.8838\n",
      "Epoch 15/20\n",
      "469/469 - 1s - loss: 0.2472 - accuracy: 0.9093 - val_loss: 0.3694 - val_accuracy: 0.8693\n",
      "Epoch 16/20\n",
      "469/469 - 1s - loss: 0.2404 - accuracy: 0.9118 - val_loss: 0.3924 - val_accuracy: 0.8649\n",
      "Epoch 17/20\n",
      "469/469 - 1s - loss: 0.2373 - accuracy: 0.9139 - val_loss: 0.3690 - val_accuracy: 0.8683\n",
      "Epoch 18/20\n",
      "469/469 - 1s - loss: 0.2318 - accuracy: 0.9147 - val_loss: 0.3473 - val_accuracy: 0.8802\n",
      "Epoch 19/20\n",
      "469/469 - 1s - loss: 0.2242 - accuracy: 0.9178 - val_loss: 0.3667 - val_accuracy: 0.8746\n",
      "Epoch 20/20\n",
      "469/469 - 1s - loss: 0.2187 - accuracy: 0.9200 - val_loss: 0.3650 - val_accuracy: 0.8755\n"
     ]
    },
    {
     "data": {
      "text/plain": [
       "<tensorflow.python.keras.callbacks.History at 0x7fed422a5670>"
      ]
     },
     "execution_count": 14,
     "metadata": {},
     "output_type": "execute_result"
    }
   ],
   "source": [
    "neural_network.fit(image_train, label_train,\n",
    "                  batch_size=128, epochs = 20,\n",
    "                  verbose=2,\n",
    "                  validation_data=(image_test, label_test))"
   ]
  },
  {
   "cell_type": "markdown",
   "metadata": {},
   "source": [
    "<h2>Evaluating<h2>"
   ]
  },
  {
   "cell_type": "code",
   "execution_count": 10,
   "metadata": {},
   "outputs": [
    {
     "name": "stdout",
     "output_type": "stream",
     "text": [
      "313/313 - 0s - loss: 0.3711 - accuracy: 0.8779\n"
     ]
    },
    {
     "data": {
      "text/plain": [
       "[0.3711182177066803, 0.8779000043869019]"
      ]
     },
     "execution_count": 10,
     "metadata": {},
     "output_type": "execute_result"
    }
   ],
   "source": [
    "neural_network.evaluate(image_test, label_test, verbose=2)"
   ]
  },
  {
   "cell_type": "markdown",
   "metadata": {},
   "source": [
    "Coded while working through the following book:\n",
    "Krohn, J., Beyleveld, G., & Bassens, A. (2019). Deep Learning Illustrated: A Visual, Interactive Guide to Artificial Intelligence. Addison-Wesley Professional."
   ]
  }
 ],
 "metadata": {
  "kernelspec": {
   "display_name": "Python 3",
   "language": "python",
   "name": "python3"
  },
  "language_info": {
   "codemirror_mode": {
    "name": "ipython",
    "version": 3
   },
   "file_extension": ".py",
   "mimetype": "text/x-python",
   "name": "python",
   "nbconvert_exporter": "python",
   "pygments_lexer": "ipython3",
   "version": "3.8.3"
  }
 },
 "nbformat": 4,
 "nbformat_minor": 4
}
